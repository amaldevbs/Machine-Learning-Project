{
 "cells": [
  {
   "cell_type": "code",
   "execution_count": 2,
   "metadata": {},
   "outputs": [
    {
     "name": "stdout",
     "output_type": "stream",
     "text": [
      "Collecting Quandl\n",
      "  Downloading https://files.pythonhosted.org/packages/07/ab/8cd479fba8a9b197a43a0d55dd534b066fb8e5a0a04b5c0384cbc5d663aa/Quandl-3.5.0-py2.py3-none-any.whl\n",
      "Requirement already satisfied: numpy>=1.8 in c:\\users\\amal dev\\anaconda3\\lib\\site-packages (from Quandl) (1.16.4)\n",
      "Requirement already satisfied: more-itertools in c:\\users\\amal dev\\anaconda3\\lib\\site-packages (from Quandl) (7.0.0)\n",
      "Requirement already satisfied: six in c:\\users\\amal dev\\anaconda3\\lib\\site-packages (from Quandl) (1.12.0)\n",
      "Collecting inflection>=0.3.1 (from Quandl)\n",
      "  Downloading https://files.pythonhosted.org/packages/d5/35/a6eb45b4e2356fe688b21570864d4aa0d0a880ce387defe9c589112077f8/inflection-0.3.1.tar.gz\n",
      "Requirement already satisfied: requests>=2.7.0 in c:\\users\\amal dev\\anaconda3\\lib\\site-packages (from Quandl) (2.22.0)\n",
      "Requirement already satisfied: python-dateutil in c:\\users\\amal dev\\anaconda3\\lib\\site-packages (from Quandl) (2.8.0)\n",
      "Requirement already satisfied: pandas>=0.14 in c:\\users\\amal dev\\anaconda3\\lib\\site-packages (from Quandl) (0.24.2)\n",
      "Requirement already satisfied: chardet<3.1.0,>=3.0.2 in c:\\users\\amal dev\\anaconda3\\lib\\site-packages (from requests>=2.7.0->Quandl) (3.0.4)\n",
      "Requirement already satisfied: idna<2.9,>=2.5 in c:\\users\\amal dev\\anaconda3\\lib\\site-packages (from requests>=2.7.0->Quandl) (2.8)\n",
      "Requirement already satisfied: urllib3!=1.25.0,!=1.25.1,<1.26,>=1.21.1 in c:\\users\\amal dev\\anaconda3\\lib\\site-packages (from requests>=2.7.0->Quandl) (1.24.2)\n",
      "Requirement already satisfied: certifi>=2017.4.17 in c:\\users\\amal dev\\anaconda3\\lib\\site-packages (from requests>=2.7.0->Quandl) (2019.6.16)\n",
      "Requirement already satisfied: pytz>=2011k in c:\\users\\amal dev\\anaconda3\\lib\\site-packages (from pandas>=0.14->Quandl) (2019.1)\n",
      "Building wheels for collected packages: inflection\n",
      "  Building wheel for inflection (setup.py): started\n",
      "  Building wheel for inflection (setup.py): finished with status 'done'\n",
      "  Stored in directory: C:\\Users\\Amal Dev\\AppData\\Local\\pip\\Cache\\wheels\\9f\\5a\\d3\\6fc3bf6516d2a3eb7e18f9f28b472110b59325f3f258fe9211\n",
      "Successfully built inflection\n",
      "Installing collected packages: inflection, Quandl\n",
      "Successfully installed Quandl-3.5.0 inflection-0.3.1\n"
     ]
    }
   ],
   "source": [
    "#For Quandl installation in your kernel \n",
    "!pip install Quandl"
   ]
  },
  {
   "cell_type": "code",
   "execution_count": 5,
   "metadata": {},
   "outputs": [],
   "source": [
    "import pandas as pd #For data related tasks\n",
    "import matplotlib.pyplot as plt #for data visualization \n",
    "import quandl #Stock market API for fetching Data\n",
    "from sklearn.linear_model import LinearRegression"
   ]
  },
  {
   "cell_type": "code",
   "execution_count": 6,
   "metadata": {},
   "outputs": [
    {
     "name": "stdout",
     "output_type": "stream",
     "text": [
      "               Open     High      Low     Last    Close  Total Trade Quantity  \\\n",
      "Date                                                                            \n",
      "2018-12-03  1984.00  1990.00  1968.30  1984.00  1982.40             1610576.0   \n",
      "2018-12-04  1983.00  2019.40  1971.00  2009.85  2010.85             3270615.0   \n",
      "2018-12-05  2006.00  2018.00  1985.00  2003.90  2006.75             2501539.0   \n",
      "2018-12-06  1998.00  2017.00  1979.60  1990.00  1992.70             2321216.0   \n",
      "2018-12-07  1985.05  2003.90  1973.00  1999.85  1995.20             1680420.0   \n",
      "2018-12-10  1975.00  2011.00  1960.00  1961.00  1975.80             2010786.0   \n",
      "2018-12-11  1970.00  2010.00  1961.00  1997.05  2000.00             2942014.0   \n",
      "2018-12-12  2001.10  2022.00  1984.95  2016.50  2016.80             2219993.0   \n",
      "2018-12-13  2024.00  2029.70  1974.50  1981.95  1982.60             3748429.0   \n",
      "2018-12-14  1983.00  1998.95  1975.25  1989.00  1989.75             2473761.0   \n",
      "2018-12-17  1999.00  2004.90  1985.00  1992.90  1994.30             1227921.0   \n",
      "2018-12-18  1991.90  2002.00  1976.40  1987.90  1987.85             1768742.0   \n",
      "2018-12-19  1984.80  1984.80  1960.05  1970.80  1968.45             2498833.0   \n",
      "2018-12-20  1953.80  1974.90  1946.00  1955.00  1954.05             1940277.0   \n",
      "2018-12-21  1948.00  1950.00  1886.55  1905.00  1895.80             3729956.0   \n",
      "2018-12-24  1905.80  1938.90  1905.00  1922.00  1918.50             1864116.0   \n",
      "2018-12-26  1921.80  1921.80  1870.25  1892.00  1889.20             2446614.0   \n",
      "2018-12-27  1909.00  1941.70  1872.10  1909.10  1908.95             4968201.0   \n",
      "2018-12-28  1915.00  1920.00  1893.00  1897.00  1896.05             2239130.0   \n",
      "2018-12-31  1908.00  1909.00  1886.15  1894.75  1893.05             1879740.0   \n",
      "\n",
      "            Turnover (Lacs)  \n",
      "Date                         \n",
      "2018-12-03         31868.00  \n",
      "2018-12-04         65568.23  \n",
      "2018-12-05         50131.23  \n",
      "2018-12-06         46373.71  \n",
      "2018-12-07         33463.26  \n",
      "2018-12-10         39990.73  \n",
      "2018-12-11         58636.26  \n",
      "2018-12-12         44663.42  \n",
      "2018-12-13         74802.38  \n",
      "2018-12-14         49094.42  \n",
      "2018-12-17         24482.95  \n",
      "2018-12-18         35137.11  \n",
      "2018-12-19         49198.05  \n",
      "2018-12-20         37945.10  \n",
      "2018-12-21         71360.52  \n",
      "2018-12-24         35878.57  \n",
      "2018-12-26         46112.98  \n",
      "2018-12-27         95411.46  \n",
      "2018-12-28         42708.38  \n",
      "2018-12-31         35647.72  \n"
     ]
    }
   ],
   "source": [
    "quandl.ApiConfig.api_key = ''## enter your key \n",
    "stock_data = quandl.get('NSE/TCS', start_date='2018-12-01', end_date='2018-12-31')\n",
    "#Let's see the data\n",
    "print(stock_data)"
   ]
  },
  {
   "cell_type": "code",
   "execution_count": 7,
   "metadata": {},
   "outputs": [],
   "source": [
    "dataset = pd.DataFrame(stock_data)"
   ]
  },
  {
   "cell_type": "code",
   "execution_count": 8,
   "metadata": {},
   "outputs": [],
   "source": [
    "dataset.head()\n",
    "##Now we convert into csv\n",
    "dataset.to_csv('TCS.csv')"
   ]
  },
  {
   "cell_type": "code",
   "execution_count": 9,
   "metadata": {},
   "outputs": [],
   "source": [
    "## We have to read our CSV\n",
    "data = pd.read_csv('TCS.csv')"
   ]
  },
  {
   "cell_type": "code",
   "execution_count": 10,
   "metadata": {},
   "outputs": [
    {
     "data": {
      "text/html": [
       "<div>\n",
       "<style scoped>\n",
       "    .dataframe tbody tr th:only-of-type {\n",
       "        vertical-align: middle;\n",
       "    }\n",
       "\n",
       "    .dataframe tbody tr th {\n",
       "        vertical-align: top;\n",
       "    }\n",
       "\n",
       "    .dataframe thead th {\n",
       "        text-align: right;\n",
       "    }\n",
       "</style>\n",
       "<table border=\"1\" class=\"dataframe\">\n",
       "  <thead>\n",
       "    <tr style=\"text-align: right;\">\n",
       "      <th></th>\n",
       "      <th>Date</th>\n",
       "      <th>Open</th>\n",
       "      <th>High</th>\n",
       "      <th>Low</th>\n",
       "      <th>Last</th>\n",
       "      <th>Close</th>\n",
       "      <th>Total Trade Quantity</th>\n",
       "      <th>Turnover (Lacs)</th>\n",
       "    </tr>\n",
       "  </thead>\n",
       "  <tbody>\n",
       "    <tr>\n",
       "      <th>0</th>\n",
       "      <td>2018-12-03</td>\n",
       "      <td>1984.00</td>\n",
       "      <td>1990.0</td>\n",
       "      <td>1968.3</td>\n",
       "      <td>1984.00</td>\n",
       "      <td>1982.40</td>\n",
       "      <td>1610576.0</td>\n",
       "      <td>31868.00</td>\n",
       "    </tr>\n",
       "    <tr>\n",
       "      <th>1</th>\n",
       "      <td>2018-12-04</td>\n",
       "      <td>1983.00</td>\n",
       "      <td>2019.4</td>\n",
       "      <td>1971.0</td>\n",
       "      <td>2009.85</td>\n",
       "      <td>2010.85</td>\n",
       "      <td>3270615.0</td>\n",
       "      <td>65568.23</td>\n",
       "    </tr>\n",
       "    <tr>\n",
       "      <th>2</th>\n",
       "      <td>2018-12-05</td>\n",
       "      <td>2006.00</td>\n",
       "      <td>2018.0</td>\n",
       "      <td>1985.0</td>\n",
       "      <td>2003.90</td>\n",
       "      <td>2006.75</td>\n",
       "      <td>2501539.0</td>\n",
       "      <td>50131.23</td>\n",
       "    </tr>\n",
       "    <tr>\n",
       "      <th>3</th>\n",
       "      <td>2018-12-06</td>\n",
       "      <td>1998.00</td>\n",
       "      <td>2017.0</td>\n",
       "      <td>1979.6</td>\n",
       "      <td>1990.00</td>\n",
       "      <td>1992.70</td>\n",
       "      <td>2321216.0</td>\n",
       "      <td>46373.71</td>\n",
       "    </tr>\n",
       "    <tr>\n",
       "      <th>4</th>\n",
       "      <td>2018-12-07</td>\n",
       "      <td>1985.05</td>\n",
       "      <td>2003.9</td>\n",
       "      <td>1973.0</td>\n",
       "      <td>1999.85</td>\n",
       "      <td>1995.20</td>\n",
       "      <td>1680420.0</td>\n",
       "      <td>33463.26</td>\n",
       "    </tr>\n",
       "  </tbody>\n",
       "</table>\n",
       "</div>"
      ],
      "text/plain": [
       "         Date     Open    High     Low     Last    Close  \\\n",
       "0  2018-12-03  1984.00  1990.0  1968.3  1984.00  1982.40   \n",
       "1  2018-12-04  1983.00  2019.4  1971.0  2009.85  2010.85   \n",
       "2  2018-12-05  2006.00  2018.0  1985.0  2003.90  2006.75   \n",
       "3  2018-12-06  1998.00  2017.0  1979.6  1990.00  1992.70   \n",
       "4  2018-12-07  1985.05  2003.9  1973.0  1999.85  1995.20   \n",
       "\n",
       "   Total Trade Quantity  Turnover (Lacs)  \n",
       "0             1610576.0         31868.00  \n",
       "1             3270615.0         65568.23  \n",
       "2             2501539.0         50131.23  \n",
       "3             2321216.0         46373.71  \n",
       "4             1680420.0         33463.26  "
      ]
     },
     "execution_count": 10,
     "metadata": {},
     "output_type": "execute_result"
    }
   ],
   "source": [
    "data.head()"
   ]
  },
  {
   "cell_type": "code",
   "execution_count": 11,
   "metadata": {},
   "outputs": [
    {
     "data": {
      "text/plain": [
       "Date                    0\n",
       "Open                    0\n",
       "High                    0\n",
       "Low                     0\n",
       "Last                    0\n",
       "Close                   0\n",
       "Total Trade Quantity    0\n",
       "Turnover (Lacs)         0\n",
       "dtype: int64"
      ]
     },
     "execution_count": 11,
     "metadata": {},
     "output_type": "execute_result"
    }
   ],
   "source": [
    "data.isnull().sum()"
   ]
  },
  {
   "cell_type": "code",
   "execution_count": 12,
   "metadata": {},
   "outputs": [
    {
     "data": {
      "image/png": "[encoded data removed]",
      "text/plain": [
       "<Figure size 1224x576 with 2 Axes>"
      ]
     },
     "metadata": {
      "needs_background": "light"
     },
     "output_type": "display_data"
    }
   ],
   "source": [
    "import seaborn as sns\n",
    "plt.figure(1 , figsize = (17 , 8))\n",
    "cor = sns.heatmap(data.corr(), annot = True)"
   ]
  },
  {
   "cell_type": "code",
   "execution_count": 13,
   "metadata": {},
   "outputs": [],
   "source": [
    "#Let's select our features\n",
    "x = data.loc[:,'High':'Turnover (Lacs)']\n",
    "y = data.loc[:,'Open']\n"
   ]
  },
  {
   "cell_type": "code",
   "execution_count": 14,
   "metadata": {},
   "outputs": [
    {
     "data": {
      "text/html": [
       "<div>\n",
       "<style scoped>\n",
       "    .dataframe tbody tr th:only-of-type {\n",
       "        vertical-align: middle;\n",
       "    }\n",
       "\n",
       "    .dataframe tbody tr th {\n",
       "        vertical-align: top;\n",
       "    }\n",
       "\n",
       "    .dataframe thead th {\n",
       "        text-align: right;\n",
       "    }\n",
       "</style>\n",
       "<table border=\"1\" class=\"dataframe\">\n",
       "  <thead>\n",
       "    <tr style=\"text-align: right;\">\n",
       "      <th></th>\n",
       "      <th>High</th>\n",
       "      <th>Low</th>\n",
       "      <th>Last</th>\n",
       "      <th>Close</th>\n",
       "      <th>Total Trade Quantity</th>\n",
       "      <th>Turnover (Lacs)</th>\n",
       "    </tr>\n",
       "  </thead>\n",
       "  <tbody>\n",
       "    <tr>\n",
       "      <th>0</th>\n",
       "      <td>1990.0</td>\n",
       "      <td>1968.3</td>\n",
       "      <td>1984.00</td>\n",
       "      <td>1982.40</td>\n",
       "      <td>1610576.0</td>\n",
       "      <td>31868.00</td>\n",
       "    </tr>\n",
       "    <tr>\n",
       "      <th>1</th>\n",
       "      <td>2019.4</td>\n",
       "      <td>1971.0</td>\n",
       "      <td>2009.85</td>\n",
       "      <td>2010.85</td>\n",
       "      <td>3270615.0</td>\n",
       "      <td>65568.23</td>\n",
       "    </tr>\n",
       "    <tr>\n",
       "      <th>2</th>\n",
       "      <td>2018.0</td>\n",
       "      <td>1985.0</td>\n",
       "      <td>2003.90</td>\n",
       "      <td>2006.75</td>\n",
       "      <td>2501539.0</td>\n",
       "      <td>50131.23</td>\n",
       "    </tr>\n",
       "    <tr>\n",
       "      <th>3</th>\n",
       "      <td>2017.0</td>\n",
       "      <td>1979.6</td>\n",
       "      <td>1990.00</td>\n",
       "      <td>1992.70</td>\n",
       "      <td>2321216.0</td>\n",
       "      <td>46373.71</td>\n",
       "    </tr>\n",
       "    <tr>\n",
       "      <th>4</th>\n",
       "      <td>2003.9</td>\n",
       "      <td>1973.0</td>\n",
       "      <td>1999.85</td>\n",
       "      <td>1995.20</td>\n",
       "      <td>1680420.0</td>\n",
       "      <td>33463.26</td>\n",
       "    </tr>\n",
       "  </tbody>\n",
       "</table>\n",
       "</div>"
      ],
      "text/plain": [
       "     High     Low     Last    Close  Total Trade Quantity  Turnover (Lacs)\n",
       "0  1990.0  1968.3  1984.00  1982.40             1610576.0         31868.00\n",
       "1  2019.4  1971.0  2009.85  2010.85             3270615.0         65568.23\n",
       "2  2018.0  1985.0  2003.90  2006.75             2501539.0         50131.23\n",
       "3  2017.0  1979.6  1990.00  1992.70             2321216.0         46373.71\n",
       "4  2003.9  1973.0  1999.85  1995.20             1680420.0         33463.26"
      ]
     },
     "execution_count": 14,
     "metadata": {},
     "output_type": "execute_result"
    }
   ],
   "source": [
    "x.head()"
   ]
  },
  {
   "cell_type": "code",
   "execution_count": 15,
   "metadata": {},
   "outputs": [
    {
     "data": {
      "text/plain": [
       "0    1984.00\n",
       "1    1983.00\n",
       "2    2006.00\n",
       "3    1998.00\n",
       "4    1985.05\n",
       "Name: Open, dtype: float64"
      ]
     },
     "execution_count": 15,
     "metadata": {},
     "output_type": "execute_result"
    }
   ],
   "source": [
    "y.head()"
   ]
  },
  {
   "cell_type": "code",
   "execution_count": 16,
   "metadata": {},
   "outputs": [],
   "source": [
    "from sklearn.model_selection import train_test_split\n",
    "x_train,x_test,y_train,y_test = train_test_split(x,y,test_size = 0.1,random_state = 0)"
   ]
  },
  {
   "cell_type": "code",
   "execution_count": 17,
   "metadata": {},
   "outputs": [],
   "source": [
    "LR = LinearRegression()"
   ]
  },
  {
   "cell_type": "code",
   "execution_count": 18,
   "metadata": {},
   "outputs": [
    {
     "data": {
      "text/plain": [
       "LinearRegression(copy_X=True, fit_intercept=True, n_jobs=None, normalize=False)"
      ]
     },
     "execution_count": 18,
     "metadata": {},
     "output_type": "execute_result"
    }
   ],
   "source": [
    "LR.fit(x_train,y_train)"
   ]
  },
  {
   "cell_type": "code",
   "execution_count": 19,
   "metadata": {},
   "outputs": [
    {
     "data": {
      "text/plain": [
       "0.99976474840472"
      ]
     },
     "execution_count": 19,
     "metadata": {},
     "output_type": "execute_result"
    }
   ],
   "source": [
    "LR.score(x_test,y_test)"
   ]
  },
  {
   "cell_type": "code",
   "execution_count": 20,
   "metadata": {},
   "outputs": [],
   "source": [
    "##I given a test data of random day\n",
    "Test_data = [[2017.0 ,1979.6 ,1990.00 ,1992.70 ,2321216.0 ,46373.71]]\n",
    "prediction = LR.predict(Test_data)\n"
   ]
  },
  {
   "cell_type": "code",
   "execution_count": 21,
   "metadata": {},
   "outputs": [
    {
     "name": "stdout",
     "output_type": "stream",
     "text": [
      "[2001.75159573]\n"
     ]
    }
   ],
   "source": [
    "print(prediction)"
   ]
  },
  {
   "cell_type": "code",
   "execution_count": null,
   "metadata": {},
   "outputs": [],
   "source": []
  }
 ],
 "metadata": {
  "kernelspec": {
   "display_name": "Python 3",
   "language": "python",
   "name": "python3"
  },
  "language_info": {
   "codemirror_mode": {
    "name": "ipython",
    "version": 3
   },
   "file_extension": ".py",
   "mimetype": "text/x-python",
   "name": "python",
   "nbconvert_exporter": "python",
   "pygments_lexer": "ipython3",
   "version": "3.7.3"
  }
 },
 "nbformat": 4,
 "nbformat_minor": 4
}
